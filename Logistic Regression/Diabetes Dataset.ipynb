{
 "cells": [
  {
   "cell_type": "code",
   "execution_count": 2,
   "metadata": {},
   "outputs": [],
   "source": [
    "# Import\n",
    "import numpy as np\n",
    "import pandas as pd\n",
    "import matplotlib.pyplot as plt\n",
    "import seaborn as sns\n",
    "from sklearn.model_selection import train_test_split\n",
    "from sklearn.preprocessing import StandardScaler\n",
    "from sklearn.linear_model import LogisticRegression\n",
    "from sklearn import metrics\n",
    "\n",
    "%matplotlib inline\n",
    "import warnings;\n",
    "warnings.filterwarnings('ignore');"
   ]
  },
  {
   "cell_type": "code",
   "execution_count": 3,
   "metadata": {},
   "outputs": [],
   "source": [
    "# load the data\n",
    "data=pd.read_csv(\"C:/Users/Anupa/Desktop/Learnby- Machine learning & AI/Statistics & Machine Learning_August 2020/PPT & CODE/Logistic Regression/Practise Code/diabetes.csv\")"
   ]
  },
  {
   "cell_type": "code",
   "execution_count": 4,
   "metadata": {},
   "outputs": [
    {
     "data": {
      "text/html": [
       "<div>\n",
       "<style scoped>\n",
       "    .dataframe tbody tr th:only-of-type {\n",
       "        vertical-align: middle;\n",
       "    }\n",
       "\n",
       "    .dataframe tbody tr th {\n",
       "        vertical-align: top;\n",
       "    }\n",
       "\n",
       "    .dataframe thead th {\n",
       "        text-align: right;\n",
       "    }\n",
       "</style>\n",
       "<table border=\"1\" class=\"dataframe\">\n",
       "  <thead>\n",
       "    <tr style=\"text-align: right;\">\n",
       "      <th></th>\n",
       "      <th>Pregnancies</th>\n",
       "      <th>Glucose</th>\n",
       "      <th>BloodPressure</th>\n",
       "      <th>SkinThickness</th>\n",
       "      <th>Insulin</th>\n",
       "      <th>BMI</th>\n",
       "      <th>DiabetesPedigreeFunction</th>\n",
       "      <th>Age</th>\n",
       "      <th>Outcome</th>\n",
       "    </tr>\n",
       "  </thead>\n",
       "  <tbody>\n",
       "    <tr>\n",
       "      <th>0</th>\n",
       "      <td>6</td>\n",
       "      <td>148</td>\n",
       "      <td>72</td>\n",
       "      <td>35</td>\n",
       "      <td>0</td>\n",
       "      <td>33.6</td>\n",
       "      <td>0.627</td>\n",
       "      <td>50</td>\n",
       "      <td>1</td>\n",
       "    </tr>\n",
       "    <tr>\n",
       "      <th>1</th>\n",
       "      <td>1</td>\n",
       "      <td>85</td>\n",
       "      <td>66</td>\n",
       "      <td>29</td>\n",
       "      <td>0</td>\n",
       "      <td>26.6</td>\n",
       "      <td>0.351</td>\n",
       "      <td>31</td>\n",
       "      <td>0</td>\n",
       "    </tr>\n",
       "    <tr>\n",
       "      <th>2</th>\n",
       "      <td>8</td>\n",
       "      <td>183</td>\n",
       "      <td>64</td>\n",
       "      <td>0</td>\n",
       "      <td>0</td>\n",
       "      <td>23.3</td>\n",
       "      <td>0.672</td>\n",
       "      <td>32</td>\n",
       "      <td>1</td>\n",
       "    </tr>\n",
       "    <tr>\n",
       "      <th>3</th>\n",
       "      <td>1</td>\n",
       "      <td>89</td>\n",
       "      <td>66</td>\n",
       "      <td>23</td>\n",
       "      <td>94</td>\n",
       "      <td>28.1</td>\n",
       "      <td>0.167</td>\n",
       "      <td>21</td>\n",
       "      <td>0</td>\n",
       "    </tr>\n",
       "    <tr>\n",
       "      <th>4</th>\n",
       "      <td>0</td>\n",
       "      <td>137</td>\n",
       "      <td>40</td>\n",
       "      <td>35</td>\n",
       "      <td>168</td>\n",
       "      <td>43.1</td>\n",
       "      <td>2.288</td>\n",
       "      <td>33</td>\n",
       "      <td>1</td>\n",
       "    </tr>\n",
       "  </tbody>\n",
       "</table>\n",
       "</div>"
      ],
      "text/plain": [
       "   Pregnancies  Glucose  BloodPressure  SkinThickness  Insulin   BMI  \\\n",
       "0            6      148             72             35        0  33.6   \n",
       "1            1       85             66             29        0  26.6   \n",
       "2            8      183             64              0        0  23.3   \n",
       "3            1       89             66             23       94  28.1   \n",
       "4            0      137             40             35      168  43.1   \n",
       "\n",
       "   DiabetesPedigreeFunction  Age  Outcome  \n",
       "0                     0.627   50        1  \n",
       "1                     0.351   31        0  \n",
       "2                     0.672   32        1  \n",
       "3                     0.167   21        0  \n",
       "4                     2.288   33        1  "
      ]
     },
     "execution_count": 4,
     "metadata": {},
     "output_type": "execute_result"
    }
   ],
   "source": [
    "data.head()"
   ]
  },
  {
   "cell_type": "code",
   "execution_count": 5,
   "metadata": {},
   "outputs": [
    {
     "data": {
      "text/plain": [
       "(768, 9)"
      ]
     },
     "execution_count": 5,
     "metadata": {},
     "output_type": "execute_result"
    }
   ],
   "source": [
    "data.shape"
   ]
  },
  {
   "cell_type": "code",
   "execution_count": 6,
   "metadata": {},
   "outputs": [
    {
     "data": {
      "text/plain": [
       "Pregnancies                   int64\n",
       "Glucose                       int64\n",
       "BloodPressure                 int64\n",
       "SkinThickness                 int64\n",
       "Insulin                       int64\n",
       "BMI                         float64\n",
       "DiabetesPedigreeFunction    float64\n",
       "Age                           int64\n",
       "Outcome                       int64\n",
       "dtype: object"
      ]
     },
     "execution_count": 6,
     "metadata": {},
     "output_type": "execute_result"
    }
   ],
   "source": [
    "data.dtypes\n",
    "\n",
    "# No categorical data only numerical data is present"
   ]
  },
  {
   "cell_type": "code",
   "execution_count": 8,
   "metadata": {},
   "outputs": [
    {
     "name": "stdout",
     "output_type": "stream",
     "text": [
      "<class 'pandas.core.frame.DataFrame'>\n",
      "RangeIndex: 768 entries, 0 to 767\n",
      "Data columns (total 9 columns):\n",
      " #   Column                    Non-Null Count  Dtype  \n",
      "---  ------                    --------------  -----  \n",
      " 0   Pregnancies               768 non-null    int64  \n",
      " 1   Glucose                   768 non-null    int64  \n",
      " 2   BloodPressure             768 non-null    int64  \n",
      " 3   SkinThickness             768 non-null    int64  \n",
      " 4   Insulin                   768 non-null    int64  \n",
      " 5   BMI                       768 non-null    float64\n",
      " 6   DiabetesPedigreeFunction  768 non-null    float64\n",
      " 7   Age                       768 non-null    int64  \n",
      " 8   Outcome                   768 non-null    int64  \n",
      "dtypes: float64(2), int64(7)\n",
      "memory usage: 54.1 KB\n"
     ]
    }
   ],
   "source": [
    "# Missing Value\n",
    "data.info()\n",
    "\n",
    "\n",
    "# No missing value has been found out"
   ]
  },
  {
   "cell_type": "code",
   "execution_count": 9,
   "metadata": {},
   "outputs": [
    {
     "data": {
      "text/html": [
       "<div>\n",
       "<style scoped>\n",
       "    .dataframe tbody tr th:only-of-type {\n",
       "        vertical-align: middle;\n",
       "    }\n",
       "\n",
       "    .dataframe tbody tr th {\n",
       "        vertical-align: top;\n",
       "    }\n",
       "\n",
       "    .dataframe thead th {\n",
       "        text-align: right;\n",
       "    }\n",
       "</style>\n",
       "<table border=\"1\" class=\"dataframe\">\n",
       "  <thead>\n",
       "    <tr style=\"text-align: right;\">\n",
       "      <th></th>\n",
       "      <th>Pregnancies</th>\n",
       "      <th>Glucose</th>\n",
       "      <th>BloodPressure</th>\n",
       "      <th>SkinThickness</th>\n",
       "      <th>Insulin</th>\n",
       "      <th>BMI</th>\n",
       "      <th>DiabetesPedigreeFunction</th>\n",
       "      <th>Age</th>\n",
       "      <th>Outcome</th>\n",
       "    </tr>\n",
       "  </thead>\n",
       "  <tbody>\n",
       "    <tr>\n",
       "      <th>count</th>\n",
       "      <td>768.000000</td>\n",
       "      <td>768.000000</td>\n",
       "      <td>768.000000</td>\n",
       "      <td>768.000000</td>\n",
       "      <td>768.000000</td>\n",
       "      <td>768.000000</td>\n",
       "      <td>768.000000</td>\n",
       "      <td>768.000000</td>\n",
       "      <td>768.000000</td>\n",
       "    </tr>\n",
       "    <tr>\n",
       "      <th>mean</th>\n",
       "      <td>3.845052</td>\n",
       "      <td>120.894531</td>\n",
       "      <td>69.105469</td>\n",
       "      <td>20.536458</td>\n",
       "      <td>79.799479</td>\n",
       "      <td>31.992578</td>\n",
       "      <td>0.471876</td>\n",
       "      <td>33.240885</td>\n",
       "      <td>0.348958</td>\n",
       "    </tr>\n",
       "    <tr>\n",
       "      <th>std</th>\n",
       "      <td>3.369578</td>\n",
       "      <td>31.972618</td>\n",
       "      <td>19.355807</td>\n",
       "      <td>15.952218</td>\n",
       "      <td>115.244002</td>\n",
       "      <td>7.884160</td>\n",
       "      <td>0.331329</td>\n",
       "      <td>11.760232</td>\n",
       "      <td>0.476951</td>\n",
       "    </tr>\n",
       "    <tr>\n",
       "      <th>min</th>\n",
       "      <td>0.000000</td>\n",
       "      <td>0.000000</td>\n",
       "      <td>0.000000</td>\n",
       "      <td>0.000000</td>\n",
       "      <td>0.000000</td>\n",
       "      <td>0.000000</td>\n",
       "      <td>0.078000</td>\n",
       "      <td>21.000000</td>\n",
       "      <td>0.000000</td>\n",
       "    </tr>\n",
       "    <tr>\n",
       "      <th>25%</th>\n",
       "      <td>1.000000</td>\n",
       "      <td>99.000000</td>\n",
       "      <td>62.000000</td>\n",
       "      <td>0.000000</td>\n",
       "      <td>0.000000</td>\n",
       "      <td>27.300000</td>\n",
       "      <td>0.243750</td>\n",
       "      <td>24.000000</td>\n",
       "      <td>0.000000</td>\n",
       "    </tr>\n",
       "    <tr>\n",
       "      <th>50%</th>\n",
       "      <td>3.000000</td>\n",
       "      <td>117.000000</td>\n",
       "      <td>72.000000</td>\n",
       "      <td>23.000000</td>\n",
       "      <td>30.500000</td>\n",
       "      <td>32.000000</td>\n",
       "      <td>0.372500</td>\n",
       "      <td>29.000000</td>\n",
       "      <td>0.000000</td>\n",
       "    </tr>\n",
       "    <tr>\n",
       "      <th>75%</th>\n",
       "      <td>6.000000</td>\n",
       "      <td>140.250000</td>\n",
       "      <td>80.000000</td>\n",
       "      <td>32.000000</td>\n",
       "      <td>127.250000</td>\n",
       "      <td>36.600000</td>\n",
       "      <td>0.626250</td>\n",
       "      <td>41.000000</td>\n",
       "      <td>1.000000</td>\n",
       "    </tr>\n",
       "    <tr>\n",
       "      <th>max</th>\n",
       "      <td>17.000000</td>\n",
       "      <td>199.000000</td>\n",
       "      <td>122.000000</td>\n",
       "      <td>99.000000</td>\n",
       "      <td>846.000000</td>\n",
       "      <td>67.100000</td>\n",
       "      <td>2.420000</td>\n",
       "      <td>81.000000</td>\n",
       "      <td>1.000000</td>\n",
       "    </tr>\n",
       "  </tbody>\n",
       "</table>\n",
       "</div>"
      ],
      "text/plain": [
       "       Pregnancies     Glucose  BloodPressure  SkinThickness     Insulin  \\\n",
       "count   768.000000  768.000000     768.000000     768.000000  768.000000   \n",
       "mean      3.845052  120.894531      69.105469      20.536458   79.799479   \n",
       "std       3.369578   31.972618      19.355807      15.952218  115.244002   \n",
       "min       0.000000    0.000000       0.000000       0.000000    0.000000   \n",
       "25%       1.000000   99.000000      62.000000       0.000000    0.000000   \n",
       "50%       3.000000  117.000000      72.000000      23.000000   30.500000   \n",
       "75%       6.000000  140.250000      80.000000      32.000000  127.250000   \n",
       "max      17.000000  199.000000     122.000000      99.000000  846.000000   \n",
       "\n",
       "              BMI  DiabetesPedigreeFunction         Age     Outcome  \n",
       "count  768.000000                768.000000  768.000000  768.000000  \n",
       "mean    31.992578                  0.471876   33.240885    0.348958  \n",
       "std      7.884160                  0.331329   11.760232    0.476951  \n",
       "min      0.000000                  0.078000   21.000000    0.000000  \n",
       "25%     27.300000                  0.243750   24.000000    0.000000  \n",
       "50%     32.000000                  0.372500   29.000000    0.000000  \n",
       "75%     36.600000                  0.626250   41.000000    1.000000  \n",
       "max     67.100000                  2.420000   81.000000    1.000000  "
      ]
     },
     "execution_count": 9,
     "metadata": {},
     "output_type": "execute_result"
    }
   ],
   "source": [
    "data.describe()"
   ]
  },
  {
   "cell_type": "code",
   "execution_count": 16,
   "metadata": {},
   "outputs": [
    {
     "data": {
      "text/html": [
       "<div>\n",
       "<style scoped>\n",
       "    .dataframe tbody tr th:only-of-type {\n",
       "        vertical-align: middle;\n",
       "    }\n",
       "\n",
       "    .dataframe tbody tr th {\n",
       "        vertical-align: top;\n",
       "    }\n",
       "\n",
       "    .dataframe thead th {\n",
       "        text-align: right;\n",
       "    }\n",
       "</style>\n",
       "<table border=\"1\" class=\"dataframe\">\n",
       "  <thead>\n",
       "    <tr style=\"text-align: right;\">\n",
       "      <th></th>\n",
       "      <th>Pregnancies</th>\n",
       "      <th>Glucose</th>\n",
       "      <th>BloodPressure</th>\n",
       "      <th>SkinThickness</th>\n",
       "      <th>Insulin</th>\n",
       "      <th>BMI</th>\n",
       "      <th>DiabetesPedigreeFunction</th>\n",
       "      <th>Age</th>\n",
       "      <th>Outcome</th>\n",
       "    </tr>\n",
       "  </thead>\n",
       "  <tbody>\n",
       "    <tr>\n",
       "      <th>0.01</th>\n",
       "      <td>0.0</td>\n",
       "      <td>57.0</td>\n",
       "      <td>0.0</td>\n",
       "      <td>0.00</td>\n",
       "      <td>0.0</td>\n",
       "      <td>0.000</td>\n",
       "      <td>0.09468</td>\n",
       "      <td>21.0</td>\n",
       "      <td>0.0</td>\n",
       "    </tr>\n",
       "    <tr>\n",
       "      <th>0.05</th>\n",
       "      <td>0.0</td>\n",
       "      <td>79.0</td>\n",
       "      <td>38.7</td>\n",
       "      <td>0.00</td>\n",
       "      <td>0.0</td>\n",
       "      <td>21.800</td>\n",
       "      <td>0.14035</td>\n",
       "      <td>21.0</td>\n",
       "      <td>0.0</td>\n",
       "    </tr>\n",
       "    <tr>\n",
       "      <th>0.99</th>\n",
       "      <td>13.0</td>\n",
       "      <td>196.0</td>\n",
       "      <td>106.0</td>\n",
       "      <td>51.33</td>\n",
       "      <td>519.9</td>\n",
       "      <td>50.759</td>\n",
       "      <td>1.69833</td>\n",
       "      <td>67.0</td>\n",
       "      <td>1.0</td>\n",
       "    </tr>\n",
       "  </tbody>\n",
       "</table>\n",
       "</div>"
      ],
      "text/plain": [
       "      Pregnancies  Glucose  BloodPressure  SkinThickness  Insulin     BMI  \\\n",
       "0.01          0.0     57.0            0.0           0.00      0.0   0.000   \n",
       "0.05          0.0     79.0           38.7           0.00      0.0  21.800   \n",
       "0.99         13.0    196.0          106.0          51.33    519.9  50.759   \n",
       "\n",
       "      DiabetesPedigreeFunction   Age  Outcome  \n",
       "0.01                   0.09468  21.0      0.0  \n",
       "0.05                   0.14035  21.0      0.0  \n",
       "0.99                   1.69833  67.0      1.0  "
      ]
     },
     "execution_count": 16,
     "metadata": {},
     "output_type": "execute_result"
    }
   ],
   "source": [
    "# Check for the outliers\n",
    "\n",
    "data.quantile([0.01,0.05,0.99])"
   ]
  },
  {
   "cell_type": "code",
   "execution_count": null,
   "metadata": {},
   "outputs": [],
   "source": [
    "# We may observe that There are not many outliers"
   ]
  },
  {
   "cell_type": "code",
   "execution_count": 17,
   "metadata": {},
   "outputs": [
    {
     "data": {
      "text/plain": [
       "0.3489583333333333"
      ]
     },
     "execution_count": 17,
     "metadata": {},
     "output_type": "execute_result"
    }
   ],
   "source": [
    "# Check the event rate of the given data\n",
    "data[\"Outcome\"].mean()"
   ]
  },
  {
   "cell_type": "code",
   "execution_count": 22,
   "metadata": {},
   "outputs": [
    {
     "data": {
      "image/png": "[encoded data removed]",
      "text/plain": [
       "<Figure size 432x288 with 1 Axes>"
      ]
     },
     "metadata": {
      "needs_background": "light"
     },
     "output_type": "display_data"
    }
   ],
   "source": [
    "sns.countplot(data[\"Outcome\"],data=data)\n",
    "plt.show()"
   ]
  },
  {
   "cell_type": "code",
   "execution_count": 41,
   "metadata": {},
   "outputs": [
    {
     "name": "stdout",
     "output_type": "stream",
     "text": [
      "Pregnancies\n",
      "0     0.342342\n",
      "1     0.214815\n",
      "2     0.184466\n",
      "3     0.360000\n",
      "4     0.338235\n",
      "5     0.368421\n",
      "6     0.320000\n",
      "7     0.555556\n",
      "8     0.578947\n",
      "9     0.642857\n",
      "10    0.416667\n",
      "11    0.636364\n",
      "12    0.444444\n",
      "13    0.500000\n",
      "14    1.000000\n",
      "15    1.000000\n",
      "17    1.000000\n",
      "Name: Outcome, dtype: float64\n",
      "Glucose\n",
      "0      0.40\n",
      "44     0.00\n",
      "56     0.00\n",
      "57     0.00\n",
      "61     0.00\n",
      "       ... \n",
      "195    1.00\n",
      "196    1.00\n",
      "197    0.75\n",
      "198    1.00\n",
      "199    1.00\n",
      "Name: Outcome, Length: 136, dtype: float64\n",
      "BloodPressure\n",
      "0      0.457143\n",
      "24     0.000000\n",
      "30     0.500000\n",
      "38     0.000000\n",
      "40     1.000000\n",
      "44     0.000000\n",
      "46     0.000000\n",
      "48     0.200000\n",
      "50     0.384615\n",
      "52     0.272727\n",
      "54     0.181818\n",
      "55     0.000000\n",
      "56     0.083333\n",
      "58     0.095238\n",
      "60     0.189189\n",
      "61     0.000000\n",
      "62     0.294118\n",
      "64     0.302326\n",
      "65     0.142857\n",
      "66     0.366667\n",
      "68     0.266667\n",
      "70     0.403509\n",
      "72     0.363636\n",
      "74     0.326923\n",
      "75     0.125000\n",
      "76     0.461538\n",
      "78     0.377778\n",
      "80     0.325000\n",
      "82     0.433333\n",
      "84     0.521739\n",
      "85     0.500000\n",
      "86     0.428571\n",
      "88     0.440000\n",
      "90     0.500000\n",
      "92     0.375000\n",
      "94     0.500000\n",
      "95     0.000000\n",
      "96     0.250000\n",
      "98     0.666667\n",
      "100    0.333333\n",
      "102    1.000000\n",
      "104    1.000000\n",
      "106    0.333333\n",
      "108    0.500000\n",
      "110    0.666667\n",
      "114    1.000000\n",
      "122    0.000000\n",
      "Name: Outcome, dtype: float64\n",
      "SkinThickness\n",
      "0     0.387665\n",
      "7     0.500000\n",
      "8     0.000000\n",
      "10    0.000000\n",
      "11    0.000000\n",
      "12    0.142857\n",
      "13    0.090909\n",
      "14    0.333333\n",
      "15    0.071429\n",
      "16    0.000000\n",
      "17    0.142857\n",
      "18    0.200000\n",
      "19    0.166667\n",
      "20    0.153846\n",
      "21    0.200000\n",
      "22    0.250000\n",
      "23    0.181818\n",
      "24    0.500000\n",
      "25    0.312500\n",
      "26    0.375000\n",
      "27    0.304348\n",
      "28    0.250000\n",
      "29    0.411765\n",
      "30    0.333333\n",
      "31    0.315789\n",
      "32    0.451613\n",
      "33    0.450000\n",
      "34    0.375000\n",
      "35    0.533333\n",
      "36    0.571429\n",
      "37    0.500000\n",
      "38    0.285714\n",
      "39    0.444444\n",
      "40    0.312500\n",
      "41    0.466667\n",
      "42    0.545455\n",
      "43    0.333333\n",
      "44    0.600000\n",
      "45    0.500000\n",
      "46    0.625000\n",
      "47    0.500000\n",
      "48    0.500000\n",
      "49    1.000000\n",
      "50    0.000000\n",
      "51    1.000000\n",
      "52    0.000000\n",
      "54    0.000000\n",
      "56    1.000000\n",
      "60    0.000000\n",
      "63    1.000000\n",
      "99    1.000000\n",
      "Name: Outcome, dtype: float64\n",
      "Insulin\n",
      "0      0.368984\n",
      "14     1.000000\n",
      "15     0.000000\n",
      "16     0.000000\n",
      "18     0.000000\n",
      "         ...   \n",
      "579    1.000000\n",
      "600    1.000000\n",
      "680    0.000000\n",
      "744    0.000000\n",
      "846    1.000000\n",
      "Name: Outcome, Length: 186, dtype: float64\n",
      "BMI\n",
      "0.0     0.181818\n",
      "18.2    0.000000\n",
      "18.4    0.000000\n",
      "19.1    0.000000\n",
      "19.3    0.000000\n",
      "          ...   \n",
      "53.2    1.000000\n",
      "55.0    1.000000\n",
      "57.3    0.000000\n",
      "59.4    1.000000\n",
      "67.1    1.000000\n",
      "Name: Outcome, Length: 248, dtype: float64\n",
      "DiabetesPedigreeFunction\n",
      "0.078    0.0\n",
      "0.084    0.0\n",
      "0.085    0.0\n",
      "0.088    0.5\n",
      "0.089    0.0\n",
      "        ... \n",
      "1.893    1.0\n",
      "2.137    1.0\n",
      "2.288    1.0\n",
      "2.329    0.0\n",
      "2.420    1.0\n",
      "Name: Outcome, Length: 517, dtype: float64\n",
      "Age\n",
      "21    0.079365\n",
      "22    0.152778\n",
      "23    0.184211\n",
      "24    0.173913\n",
      "25    0.291667\n",
      "26    0.242424\n",
      "27    0.250000\n",
      "28    0.285714\n",
      "29    0.448276\n",
      "30    0.285714\n",
      "31    0.541667\n",
      "32    0.562500\n",
      "33    0.588235\n",
      "34    0.285714\n",
      "35    0.500000\n",
      "36    0.625000\n",
      "37    0.315789\n",
      "38    0.625000\n",
      "39    0.250000\n",
      "40    0.461538\n",
      "41    0.590909\n",
      "42    0.388889\n",
      "43    0.846154\n",
      "44    0.625000\n",
      "45    0.533333\n",
      "46    0.538462\n",
      "47    0.666667\n",
      "48    0.200000\n",
      "49    0.600000\n",
      "50    0.625000\n",
      "51    0.625000\n",
      "52    0.875000\n",
      "53    0.800000\n",
      "54    0.666667\n",
      "55    0.250000\n",
      "56    0.666667\n",
      "57    0.200000\n",
      "58    0.428571\n",
      "59    0.666667\n",
      "60    0.400000\n",
      "61    0.500000\n",
      "62    0.500000\n",
      "63    0.000000\n",
      "64    0.000000\n",
      "65    0.000000\n",
      "66    0.500000\n",
      "67    0.333333\n",
      "68    0.000000\n",
      "69    0.000000\n",
      "70    1.000000\n",
      "72    0.000000\n",
      "81    0.000000\n",
      "Name: Outcome, dtype: float64\n",
      "Outcome\n",
      "0    0\n",
      "1    1\n",
      "Name: Outcome, dtype: int64\n"
     ]
    }
   ],
   "source": [
    "# Relation Between the feature & mean of outcome\n",
    "for i in data.columns:\n",
    "    x=data.groupby(i)[\"Outcome\"].mean()\n",
    "    print(x)\n"
   ]
  },
  {
   "cell_type": "code",
   "execution_count": 31,
   "metadata": {},
   "outputs": [
    {
     "data": {
      "image/png": "[encoded data removed]",
      "text/plain": [
       "<Figure size 432x288 with 1 Axes>"
      ]
     },
     "metadata": {
      "needs_background": "light"
     },
     "output_type": "display_data"
    },
    {
     "data": {
      "image/png": "[encoded data removed]",
      "text/plain": [
       "<Figure size 432x288 with 1 Axes>"
      ]
     },
     "metadata": {
      "needs_background": "light"
     },
     "output_type": "display_data"
    },
    {
     "data": {
      "image/png": "[encoded data removed]",
      "text/plain": [
       "<Figure size 432x288 with 1 Axes>"
      ]
     },
     "metadata": {
      "needs_background": "light"
     },
     "output_type": "display_data"
    },
    {
     "data": {
      "image/png": "[encoded data removed]",
      "text/plain": [
       "<Figure size 432x288 with 1 Axes>"
      ]
     },
     "metadata": {
      "needs_background": "light"
     },
     "output_type": "display_data"
    },
    {
     "data": {
      "image/png": "[encoded data removed]",
      "text/plain": [
       "<Figure size 432x288 with 1 Axes>"
      ]
     },
     "metadata": {
      "needs_background": "light"
     },
     "output_type": "display_data"
    },
    {
     "data": {
      "image/png": "[encoded data removed]",
      "text/plain": [
       "<Figure size 432x288 with 1 Axes>"
      ]
     },
     "metadata": {
      "needs_background": "light"
     },
     "output_type": "display_data"
    },
    {
     "data": {
      "image/png": "[encoded data removed]",
      "text/plain": [
       "<Figure size 432x288 with 1 Axes>"
      ]
     },
     "metadata": {
      "needs_background": "light"
     },
     "output_type": "display_data"
    },
    {
     "data": {
      "image/png": "[encoded data removed]",
      "text/plain": [
       "<Figure size 432x288 with 1 Axes>"
      ]
     },
     "metadata": {
      "needs_background": "light"
     },
     "output_type": "display_data"
    },
    {
     "data": {
      "image/png": "[encoded data removed]",
      "text/plain": [
       "<Figure size 432x288 with 1 Axes>"
      ]
     },
     "metadata": {
      "needs_background": "light"
     },
     "output_type": "display_data"
    }
   ],
   "source": [
    "# Graphically Visualising the data for feature Selection\n",
    "from numpy import mean\n",
    "for i in data.columns:\n",
    "    plt.show()\n",
    "    sns.barplot(x=i,y=\"Outcome\",data=data,estimator=mean)\n",
    "    "
   ]
  },
  {
   "cell_type": "code",
   "execution_count": null,
   "metadata": {},
   "outputs": [],
   "source": [
    "# As the visualisation is too messy due to more values in each feature.\n",
    "# To avoid this, we will use Ranking & Plotting method for data visualisation wrt Outcome variable"
   ]
  },
  {
   "cell_type": "code",
   "execution_count": 52,
   "metadata": {},
   "outputs": [
    {
     "data": {
      "text/plain": [
       "<matplotlib.axes._subplots.AxesSubplot at 0x12c5c148>"
      ]
     },
     "execution_count": 52,
     "metadata": {},
     "output_type": "execute_result"
    },
    {
     "data": {
      "image/png": "[encoded data removed]",
      "text/plain": [
       "<Figure size 432x288 with 1 Axes>"
      ]
     },
     "metadata": {
      "needs_background": "light"
     },
     "output_type": "display_data"
    }
   ],
   "source": [
    "# Create a Bucket/Rank of the variables and then accross each bucket/Rank, study the movement of probability of outcome variable\n",
    "data['Glucose_rank']=pd.qcut(data['Glucose'].rank(method='first').values,20,duplicates='drop').codes+1\n",
    "sns.barplot(x=\"Glucose_rank\" ,y=\"Outcome\",data=data,estimator=mean)\n"
   ]
  },
  {
   "cell_type": "code",
   "execution_count": 53,
   "metadata": {},
   "outputs": [
    {
     "data": {
      "text/plain": [
       "<matplotlib.axes._subplots.AxesSubplot at 0x13b86fc8>"
      ]
     },
     "execution_count": 53,
     "metadata": {},
     "output_type": "execute_result"
    },
    {
     "data": {
      "image/png": "[encoded data removed]",
      "text/plain": [
       "<Figure size 432x288 with 1 Axes>"
      ]
     },
     "metadata": {
      "needs_background": "light"
     },
     "output_type": "display_data"
    }
   ],
   "source": [
    "data['BloodPressure_rank']=pd.qcut(data['BloodPressure'].rank(method='first').values,20,duplicates='drop').codes+1\n",
    "sns.barplot(x=\"BloodPressure_rank\" ,y=\"Outcome\",data=data,estimator=mean)\n",
    "\n",
    "# Not considered because trend is not wrt outcome\n"
   ]
  },
  {
   "cell_type": "code",
   "execution_count": 54,
   "metadata": {},
   "outputs": [
    {
     "data": {
      "text/plain": [
       "<matplotlib.axes._subplots.AxesSubplot at 0x12e1fbc8>"
      ]
     },
     "execution_count": 54,
     "metadata": {},
     "output_type": "execute_result"
    },
    {
     "data": {
      "image/png": "[encoded data removed]",
      "text/plain": [
       "<Figure size 432x288 with 1 Axes>"
      ]
     },
     "metadata": {
      "needs_background": "light"
     },
     "output_type": "display_data"
    }
   ],
   "source": [
    "data['SkinThickness_rank']=pd.qcut(data['SkinThickness'].rank(method='first').values,20,duplicates='drop').codes+1\n",
    "sns.barplot(x=\"SkinThickness_rank\" ,y=\"Outcome\",data=data,estimator=mean)\n",
    "\n",
    "# Not Consider in features"
   ]
  },
  {
   "cell_type": "code",
   "execution_count": 55,
   "metadata": {},
   "outputs": [
    {
     "data": {
      "text/plain": [
       "<matplotlib.axes._subplots.AxesSubplot at 0x12c72048>"
      ]
     },
     "execution_count": 55,
     "metadata": {},
     "output_type": "execute_result"
    },
    {
     "data": {
      "image/png": "[encoded data removed]",
      "text/plain": [
       "<Figure size 432x288 with 1 Axes>"
      ]
     },
     "metadata": {
      "needs_background": "light"
     },
     "output_type": "display_data"
    }
   ],
   "source": [
    "data['Insulin_rank']=pd.qcut(data['Insulin'].rank(method='first').values,20,duplicates='drop').codes+1\n",
    "sns.barplot(x=\"Insulin_rank\" ,y=\"Outcome\",data=data,estimator=mean)\n",
    "\n",
    "\n",
    "# Consider in Feature"
   ]
  },
  {
   "cell_type": "code",
   "execution_count": 61,
   "metadata": {},
   "outputs": [
    {
     "data": {
      "text/plain": [
       "<matplotlib.axes._subplots.AxesSubplot at 0x12e93648>"
      ]
     },
     "execution_count": 61,
     "metadata": {},
     "output_type": "execute_result"
    },
    {
     "data": {
      "image/png": "[encoded data removed]",
      "text/plain": [
       "<Figure size 432x288 with 1 Axes>"
      ]
     },
     "metadata": {
      "needs_background": "light"
     },
     "output_type": "display_data"
    }
   ],
   "source": [
    "data['BMI_rank']=pd.qcut(data['BMI'].rank(method='first').values,20,duplicates='drop').codes+1\n",
    "sns.barplot(x=\"BMI_rank\" ,y=\"Outcome\",data=data,estimator=mean)\n",
    "\n"
   ]
  },
  {
   "cell_type": "code",
   "execution_count": 62,
   "metadata": {},
   "outputs": [
    {
     "data": {
      "text/plain": [
       "<matplotlib.axes._subplots.AxesSubplot at 0x13744508>"
      ]
     },
     "execution_count": 62,
     "metadata": {},
     "output_type": "execute_result"
    },
    {
     "data": {
      "image/png": "[encoded data removed]",
      "text/plain": [
       "<Figure size 432x288 with 1 Axes>"
      ]
     },
     "metadata": {
      "needs_background": "light"
     },
     "output_type": "display_data"
    }
   ],
   "source": [
    "data['DiabetesPedigreeFunction_rank']=pd.qcut(data['DiabetesPedigreeFunction'].rank(method='first').values,20,duplicates='drop').codes+1\n",
    "sns.barplot(x=\"DiabetesPedigreeFunction_rank\" ,y=\"Outcome\",data=data,estimator=mean)\n",
    "\n",
    "\n",
    "#  Consider in features\n"
   ]
  },
  {
   "cell_type": "code",
   "execution_count": 63,
   "metadata": {},
   "outputs": [
    {
     "data": {
      "text/plain": [
       "<matplotlib.axes._subplots.AxesSubplot at 0x11563f08>"
      ]
     },
     "execution_count": 63,
     "metadata": {},
     "output_type": "execute_result"
    },
    {
     "data": {
      "image/png": "[encoded data removed]",
      "text/plain": [
       "<Figure size 432x288 with 1 Axes>"
      ]
     },
     "metadata": {
      "needs_background": "light"
     },
     "output_type": "display_data"
    }
   ],
   "source": [
    "data['Age_rank']=pd.qcut(data['Age'].rank(method='first').values,20,duplicates='drop').codes+1\n",
    "sns.barplot(x=\"Age_rank\" ,y=\"Outcome\",data=data,estimator=mean)\n",
    "\n",
    "\n",
    "#  Consider in Feature list\n"
   ]
  },
  {
   "cell_type": "code",
   "execution_count": null,
   "metadata": {},
   "outputs": [],
   "source": [
    "data['Age_rank']=pd.qcut(data['Age'].rank(method='first').values,20,duplicates='drop').codes+1\n",
    "sns.barplot(x=\"Age_rank\" ,y=\"Outcome\",data=data,estimator=mean)"
   ]
  },
  {
   "cell_type": "code",
   "execution_count": 58,
   "metadata": {},
   "outputs": [
    {
     "data": {
      "text/plain": [
       "Index(['Pregnancies', 'Glucose', 'BloodPressure', 'SkinThickness', 'Insulin',\n",
       "       'BMI', 'DiabetesPedigreeFunction', 'Age', 'Outcome', 'Glucose_rank',\n",
       "       'BloodPressure_rank', 'SkinThickness_rank', 'Insulin_rank', 'BMI_rank'],\n",
       "      dtype='object')"
      ]
     },
     "execution_count": 58,
     "metadata": {},
     "output_type": "execute_result"
    }
   ],
   "source": [
    "data.columns"
   ]
  },
  {
   "cell_type": "code",
   "execution_count": 64,
   "metadata": {},
   "outputs": [],
   "source": [
    "# Feature Selection\n",
    "X=data[[\"Pregnancies\",\"Glucose\",\"Insulin\",\"BMI\",\"DiabetesPedigreeFunction\",\"Age\"]].values\n",
    "Y=data[[\"Outcome\"]].values"
   ]
  },
  {
   "cell_type": "code",
   "execution_count": 76,
   "metadata": {},
   "outputs": [],
   "source": [
    "# Train_test_Split\n",
    "X_train,X_test,Y_train,Y_test=train_test_split(X,Y,test_size=0.2,random_state=42)"
   ]
  },
  {
   "cell_type": "code",
   "execution_count": 77,
   "metadata": {},
   "outputs": [
    {
     "name": "stdout",
     "output_type": "stream",
     "text": [
      "(614, 6)\n",
      "(154, 6)\n",
      "(614, 1)\n",
      "(154, 1)\n"
     ]
    }
   ],
   "source": [
    "print(X_train.shape)\n",
    "print(X_test.shape)\n",
    "print(Y_train.shape)\n",
    "print(Y_test.shape)"
   ]
  },
  {
   "cell_type": "code",
   "execution_count": 78,
   "metadata": {},
   "outputs": [],
   "source": [
    "# Invoke logistic Regression Model\n",
    "from sklearn.linear_model import LogisticRegression\n",
    "logreg=LogisticRegression()\n",
    "model=logreg.fit(X_train,Y_train)"
   ]
  },
  {
   "cell_type": "code",
   "execution_count": 79,
   "metadata": {},
   "outputs": [
    {
     "data": {
      "text/plain": [
       "array([0, 0, 0, 0, 1, 0, 0, 0, 1, 1, 0, 1, 0, 0, 0, 0, 0, 0, 1, 1, 0, 0,\n",
       "       0, 0, 1, 1, 0, 0, 0, 0, 1, 1, 1, 1, 1, 1, 1, 0, 1, 1, 0, 1, 1, 0,\n",
       "       0, 1, 1, 0, 0, 1, 0, 1, 1, 0, 0, 0, 1, 0, 0, 1, 1, 0, 0, 0, 0, 1,\n",
       "       0, 1, 0, 1, 1, 0, 0, 0, 0, 1, 0, 0, 0, 0, 1, 0, 0, 0, 0, 1, 1, 0,\n",
       "       0, 0, 0, 0, 0, 0, 0, 1, 0, 0, 1, 0, 1, 0, 1, 1, 1, 0, 0, 1, 0, 1,\n",
       "       0, 0, 0, 1, 0, 0, 1, 0, 0, 0, 0, 0, 0, 0, 0, 0, 0, 1, 1, 1, 1, 1,\n",
       "       0, 0, 1, 0, 0, 1, 1, 0, 0, 0, 0, 0, 0, 0, 0, 0, 0, 1, 0, 0, 0, 0],\n",
       "      dtype=int64)"
      ]
     },
     "execution_count": 79,
     "metadata": {},
     "output_type": "execute_result"
    }
   ],
   "source": [
    "# Prediction of data\n",
    "Y_pred=model.predict(X_test)\n",
    "Y_pred"
   ]
  },
  {
   "cell_type": "code",
   "execution_count": 80,
   "metadata": {},
   "outputs": [
    {
     "data": {
      "text/plain": [
       "array([[81, 18],\n",
       "       [19, 36]], dtype=int64)"
      ]
     },
     "execution_count": 80,
     "metadata": {},
     "output_type": "execute_result"
    }
   ],
   "source": [
    "from sklearn.metrics import confusion_matrix\n",
    "#from sklearn.metrics import confusion_matrix\n",
    "conf_matrix=confusion_matrix(Y_test,Y_pred)\n",
    "conf_matrix\n"
   ]
  },
  {
   "cell_type": "code",
   "execution_count": 81,
   "metadata": {},
   "outputs": [
    {
     "name": "stdout",
     "output_type": "stream",
     "text": [
      "              precision    recall  f1-score   support\n",
      "\n",
      "           0       0.81      0.82      0.81        99\n",
      "           1       0.67      0.65      0.66        55\n",
      "\n",
      "    accuracy                           0.76       154\n",
      "   macro avg       0.74      0.74      0.74       154\n",
      "weighted avg       0.76      0.76      0.76       154\n",
      "\n"
     ]
    }
   ],
   "source": [
    "# precision, recall & f1_score\n",
    "\n",
    "from sklearn.metrics import classification_report\n",
    "print(classification_report(Y_test,Y_pred))"
   ]
  },
  {
   "cell_type": "code",
   "execution_count": 83,
   "metadata": {},
   "outputs": [
    {
     "data": {
      "text/plain": [
       "0.6545454545454545"
      ]
     },
     "execution_count": 83,
     "metadata": {},
     "output_type": "execute_result"
    }
   ],
   "source": [
    "metrics.recall_score(Y_test,Y_pred)"
   ]
  },
  {
   "cell_type": "code",
   "execution_count": 84,
   "metadata": {},
   "outputs": [
    {
     "name": "stdout",
     "output_type": "stream",
     "text": [
      "Accuracy 0.7597402597402597\n",
      "\n",
      "Recall 0.6545454545454545\n",
      "\n",
      "Precision 0.6666666666666666\n"
     ]
    }
   ],
   "source": [
    "# Accuracy,Recall & Precision\n",
    "\n",
    "from sklearn import metrics\n",
    "\n",
    "print(\"Accuracy\",metrics.accuracy_score(Y_test,Y_pred))\n",
    "\n",
    "print()\n",
    "\n",
    "print(\"Recall\",metrics.recall_score(Y_test,Y_pred))\n",
    "\n",
    "print()\n",
    "\n",
    "print(\"Precision\",metrics.precision_score(Y_test,Y_pred))\n"
   ]
  },
  {
   "cell_type": "code",
   "execution_count": 88,
   "metadata": {},
   "outputs": [
    {
     "data": {
      "image/png": "[encoded data removed]",
      "text/plain": [
       "<Figure size 720x576 with 1 Axes>"
      ]
     },
     "metadata": {
      "needs_background": "light"
     },
     "output_type": "display_data"
    }
   ],
   "source": [
    "# ROC & AUC\n",
    "y_pred_proba = logreg.predict_proba(X_test)[::,1]\n",
    "fpr, tpr, _ = metrics.roc_curve(Y_test, y_pred_proba)\n",
    "auc = metrics.roc_auc_score(Y_test,y_pred_proba)\n",
    "plt.figure(figsize=(10,8))\n",
    "plt.plot(fpr,tpr,label=\"auc=\"+str(auc))\n",
    "plt.legend(loc=4)\n",
    "plt.title(\"Receiver Operating Characteristic Curve (ROC)\")\n",
    "plt.xlabel(\"FPR ---->\")\n",
    "plt.ylabel(\"TPR ---->\")\n",
    "plt.show()"
   ]
  },
  {
   "cell_type": "code",
   "execution_count": 98,
   "metadata": {},
   "outputs": [
    {
     "data": {
      "text/html": [
       "<div>\n",
       "<style scoped>\n",
       "    .dataframe tbody tr th:only-of-type {\n",
       "        vertical-align: middle;\n",
       "    }\n",
       "\n",
       "    .dataframe tbody tr th {\n",
       "        vertical-align: top;\n",
       "    }\n",
       "\n",
       "    .dataframe thead th {\n",
       "        text-align: right;\n",
       "    }\n",
       "</style>\n",
       "<table border=\"1\" class=\"dataframe\">\n",
       "  <thead>\n",
       "    <tr style=\"text-align: right;\">\n",
       "      <th></th>\n",
       "      <th>count</th>\n",
       "      <th>mean</th>\n",
       "    </tr>\n",
       "    <tr>\n",
       "      <th>P_Rank_RF</th>\n",
       "      <th></th>\n",
       "      <th></th>\n",
       "    </tr>\n",
       "  </thead>\n",
       "  <tbody>\n",
       "    <tr>\n",
       "      <th>10</th>\n",
       "      <td>77</td>\n",
       "      <td>0.844156</td>\n",
       "    </tr>\n",
       "    <tr>\n",
       "      <th>9</th>\n",
       "      <td>77</td>\n",
       "      <td>0.727273</td>\n",
       "    </tr>\n",
       "    <tr>\n",
       "      <th>8</th>\n",
       "      <td>77</td>\n",
       "      <td>0.493506</td>\n",
       "    </tr>\n",
       "    <tr>\n",
       "      <th>7</th>\n",
       "      <td>76</td>\n",
       "      <td>0.394737</td>\n",
       "    </tr>\n",
       "    <tr>\n",
       "      <th>6</th>\n",
       "      <td>77</td>\n",
       "      <td>0.415584</td>\n",
       "    </tr>\n",
       "    <tr>\n",
       "      <th>5</th>\n",
       "      <td>77</td>\n",
       "      <td>0.272727</td>\n",
       "    </tr>\n",
       "    <tr>\n",
       "      <th>4</th>\n",
       "      <td>76</td>\n",
       "      <td>0.210526</td>\n",
       "    </tr>\n",
       "    <tr>\n",
       "      <th>3</th>\n",
       "      <td>77</td>\n",
       "      <td>0.051948</td>\n",
       "    </tr>\n",
       "    <tr>\n",
       "      <th>2</th>\n",
       "      <td>77</td>\n",
       "      <td>0.012987</td>\n",
       "    </tr>\n",
       "    <tr>\n",
       "      <th>1</th>\n",
       "      <td>77</td>\n",
       "      <td>0.064935</td>\n",
       "    </tr>\n",
       "  </tbody>\n",
       "</table>\n",
       "</div>"
      ],
      "text/plain": [
       "           count      mean\n",
       "P_Rank_RF                 \n",
       "10            77  0.844156\n",
       "9             77  0.727273\n",
       "8             77  0.493506\n",
       "7             76  0.394737\n",
       "6             77  0.415584\n",
       "5             77  0.272727\n",
       "4             76  0.210526\n",
       "3             77  0.051948\n",
       "2             77  0.012987\n",
       "1             77  0.064935"
      ]
     },
     "execution_count": 98,
     "metadata": {},
     "output_type": "execute_result"
    }
   ],
   "source": [
    "# To build a Gains Chart\n",
    "# Gains chart is useful to know how the given model will capture the event rate\n",
    "\n",
    "y_pred_prob = logreg.predict_proba(X)[:, 1]\n",
    "data['y_pred_P']=pd.DataFrame(y_pred_prob)\n",
    "data['P_Rank_RF']=pd.qcut(data['y_pred_P'].rank(method='first').values,10,duplicates='drop').codes+1\n",
    "rank_df=data.groupby('P_Rank_RF')['Outcome'].agg(['count','mean'])\n",
    "rank_df=pd.DataFrame(rank_df)\n",
    "sorted_rank_df=rank_df.sort_values(by='P_Rank_RF',ascending=False)\n",
    "sorted_rank_df"
   ]
  },
  {
   "cell_type": "code",
   "execution_count": 100,
   "metadata": {},
   "outputs": [
    {
     "data": {
      "text/html": [
       "<div>\n",
       "<style scoped>\n",
       "    .dataframe tbody tr th:only-of-type {\n",
       "        vertical-align: middle;\n",
       "    }\n",
       "\n",
       "    .dataframe tbody tr th {\n",
       "        vertical-align: top;\n",
       "    }\n",
       "\n",
       "    .dataframe thead th {\n",
       "        text-align: right;\n",
       "    }\n",
       "</style>\n",
       "<table border=\"1\" class=\"dataframe\">\n",
       "  <thead>\n",
       "    <tr style=\"text-align: right;\">\n",
       "      <th></th>\n",
       "      <th>count</th>\n",
       "      <th>mean</th>\n",
       "      <th>N_events</th>\n",
       "      <th>cum_events</th>\n",
       "    </tr>\n",
       "    <tr>\n",
       "      <th>P_Rank_RF</th>\n",
       "      <th></th>\n",
       "      <th></th>\n",
       "      <th></th>\n",
       "      <th></th>\n",
       "    </tr>\n",
       "  </thead>\n",
       "  <tbody>\n",
       "    <tr>\n",
       "      <th>10</th>\n",
       "      <td>77</td>\n",
       "      <td>0.844156</td>\n",
       "      <td>65.0</td>\n",
       "      <td>65.0</td>\n",
       "    </tr>\n",
       "    <tr>\n",
       "      <th>9</th>\n",
       "      <td>77</td>\n",
       "      <td>0.727273</td>\n",
       "      <td>56.0</td>\n",
       "      <td>121.0</td>\n",
       "    </tr>\n",
       "    <tr>\n",
       "      <th>8</th>\n",
       "      <td>77</td>\n",
       "      <td>0.493506</td>\n",
       "      <td>38.0</td>\n",
       "      <td>159.0</td>\n",
       "    </tr>\n",
       "    <tr>\n",
       "      <th>7</th>\n",
       "      <td>76</td>\n",
       "      <td>0.394737</td>\n",
       "      <td>30.0</td>\n",
       "      <td>189.0</td>\n",
       "    </tr>\n",
       "    <tr>\n",
       "      <th>6</th>\n",
       "      <td>77</td>\n",
       "      <td>0.415584</td>\n",
       "      <td>32.0</td>\n",
       "      <td>221.0</td>\n",
       "    </tr>\n",
       "    <tr>\n",
       "      <th>5</th>\n",
       "      <td>77</td>\n",
       "      <td>0.272727</td>\n",
       "      <td>21.0</td>\n",
       "      <td>242.0</td>\n",
       "    </tr>\n",
       "    <tr>\n",
       "      <th>4</th>\n",
       "      <td>76</td>\n",
       "      <td>0.210526</td>\n",
       "      <td>16.0</td>\n",
       "      <td>258.0</td>\n",
       "    </tr>\n",
       "    <tr>\n",
       "      <th>3</th>\n",
       "      <td>77</td>\n",
       "      <td>0.051948</td>\n",
       "      <td>4.0</td>\n",
       "      <td>262.0</td>\n",
       "    </tr>\n",
       "    <tr>\n",
       "      <th>2</th>\n",
       "      <td>77</td>\n",
       "      <td>0.012987</td>\n",
       "      <td>1.0</td>\n",
       "      <td>263.0</td>\n",
       "    </tr>\n",
       "    <tr>\n",
       "      <th>1</th>\n",
       "      <td>77</td>\n",
       "      <td>0.064935</td>\n",
       "      <td>5.0</td>\n",
       "      <td>268.0</td>\n",
       "    </tr>\n",
       "  </tbody>\n",
       "</table>\n",
       "</div>"
      ],
      "text/plain": [
       "           count      mean  N_events  cum_events\n",
       "P_Rank_RF                                       \n",
       "10            77  0.844156      65.0        65.0\n",
       "9             77  0.727273      56.0       121.0\n",
       "8             77  0.493506      38.0       159.0\n",
       "7             76  0.394737      30.0       189.0\n",
       "6             77  0.415584      32.0       221.0\n",
       "5             77  0.272727      21.0       242.0\n",
       "4             76  0.210526      16.0       258.0\n",
       "3             77  0.051948       4.0       262.0\n",
       "2             77  0.012987       1.0       263.0\n",
       "1             77  0.064935       5.0       268.0"
      ]
     },
     "execution_count": 100,
     "metadata": {},
     "output_type": "execute_result"
    }
   ],
   "source": [
    "\n",
    "sorted_rank_df['N_events']=rank_df['count']*rank_df['mean']\n",
    "sorted_rank_df['cum_events']=sorted_rank_df['N_events'].cumsum()\n",
    "sorted_rank_df"
   ]
  },
  {
   "cell_type": "code",
   "execution_count": 102,
   "metadata": {},
   "outputs": [
    {
     "data": {
      "text/html": [
       "<div>\n",
       "<style scoped>\n",
       "    .dataframe tbody tr th:only-of-type {\n",
       "        vertical-align: middle;\n",
       "    }\n",
       "\n",
       "    .dataframe tbody tr th {\n",
       "        vertical-align: top;\n",
       "    }\n",
       "\n",
       "    .dataframe thead th {\n",
       "        text-align: right;\n",
       "    }\n",
       "</style>\n",
       "<table border=\"1\" class=\"dataframe\">\n",
       "  <thead>\n",
       "    <tr style=\"text-align: right;\">\n",
       "      <th></th>\n",
       "      <th>count</th>\n",
       "      <th>mean</th>\n",
       "      <th>N_events</th>\n",
       "      <th>cum_events</th>\n",
       "      <th>event_cap</th>\n",
       "      <th>cum_event_cap</th>\n",
       "    </tr>\n",
       "    <tr>\n",
       "      <th>P_Rank_RF</th>\n",
       "      <th></th>\n",
       "      <th></th>\n",
       "      <th></th>\n",
       "      <th></th>\n",
       "      <th></th>\n",
       "      <th></th>\n",
       "    </tr>\n",
       "  </thead>\n",
       "  <tbody>\n",
       "    <tr>\n",
       "      <th>10</th>\n",
       "      <td>77</td>\n",
       "      <td>0.844156</td>\n",
       "      <td>65.0</td>\n",
       "      <td>65.0</td>\n",
       "      <td>0.242537</td>\n",
       "      <td>0.242537</td>\n",
       "    </tr>\n",
       "    <tr>\n",
       "      <th>9</th>\n",
       "      <td>77</td>\n",
       "      <td>0.727273</td>\n",
       "      <td>56.0</td>\n",
       "      <td>121.0</td>\n",
       "      <td>0.208955</td>\n",
       "      <td>0.451493</td>\n",
       "    </tr>\n",
       "    <tr>\n",
       "      <th>8</th>\n",
       "      <td>77</td>\n",
       "      <td>0.493506</td>\n",
       "      <td>38.0</td>\n",
       "      <td>159.0</td>\n",
       "      <td>0.141791</td>\n",
       "      <td>0.593284</td>\n",
       "    </tr>\n",
       "    <tr>\n",
       "      <th>7</th>\n",
       "      <td>76</td>\n",
       "      <td>0.394737</td>\n",
       "      <td>30.0</td>\n",
       "      <td>189.0</td>\n",
       "      <td>0.111940</td>\n",
       "      <td>0.705224</td>\n",
       "    </tr>\n",
       "    <tr>\n",
       "      <th>6</th>\n",
       "      <td>77</td>\n",
       "      <td>0.415584</td>\n",
       "      <td>32.0</td>\n",
       "      <td>221.0</td>\n",
       "      <td>0.119403</td>\n",
       "      <td>0.824627</td>\n",
       "    </tr>\n",
       "    <tr>\n",
       "      <th>5</th>\n",
       "      <td>77</td>\n",
       "      <td>0.272727</td>\n",
       "      <td>21.0</td>\n",
       "      <td>242.0</td>\n",
       "      <td>0.078358</td>\n",
       "      <td>0.902985</td>\n",
       "    </tr>\n",
       "    <tr>\n",
       "      <th>4</th>\n",
       "      <td>76</td>\n",
       "      <td>0.210526</td>\n",
       "      <td>16.0</td>\n",
       "      <td>258.0</td>\n",
       "      <td>0.059701</td>\n",
       "      <td>0.962687</td>\n",
       "    </tr>\n",
       "    <tr>\n",
       "      <th>3</th>\n",
       "      <td>77</td>\n",
       "      <td>0.051948</td>\n",
       "      <td>4.0</td>\n",
       "      <td>262.0</td>\n",
       "      <td>0.014925</td>\n",
       "      <td>0.977612</td>\n",
       "    </tr>\n",
       "    <tr>\n",
       "      <th>2</th>\n",
       "      <td>77</td>\n",
       "      <td>0.012987</td>\n",
       "      <td>1.0</td>\n",
       "      <td>263.0</td>\n",
       "      <td>0.003731</td>\n",
       "      <td>0.981343</td>\n",
       "    </tr>\n",
       "    <tr>\n",
       "      <th>1</th>\n",
       "      <td>77</td>\n",
       "      <td>0.064935</td>\n",
       "      <td>5.0</td>\n",
       "      <td>268.0</td>\n",
       "      <td>0.018657</td>\n",
       "      <td>1.000000</td>\n",
       "    </tr>\n",
       "  </tbody>\n",
       "</table>\n",
       "</div>"
      ],
      "text/plain": [
       "           count      mean  N_events  cum_events  event_cap  cum_event_cap\n",
       "P_Rank_RF                                                                 \n",
       "10            77  0.844156      65.0        65.0   0.242537       0.242537\n",
       "9             77  0.727273      56.0       121.0   0.208955       0.451493\n",
       "8             77  0.493506      38.0       159.0   0.141791       0.593284\n",
       "7             76  0.394737      30.0       189.0   0.111940       0.705224\n",
       "6             77  0.415584      32.0       221.0   0.119403       0.824627\n",
       "5             77  0.272727      21.0       242.0   0.078358       0.902985\n",
       "4             76  0.210526      16.0       258.0   0.059701       0.962687\n",
       "3             77  0.051948       4.0       262.0   0.014925       0.977612\n",
       "2             77  0.012987       1.0       263.0   0.003731       0.981343\n",
       "1             77  0.064935       5.0       268.0   0.018657       1.000000"
      ]
     },
     "execution_count": 102,
     "metadata": {},
     "output_type": "execute_result"
    }
   ],
   "source": [
    "sorted_rank_df['event_cap']=sorted_rank_df['N_events']/max(sorted_rank_df['N_events'].cumsum())\n",
    "sorted_rank_df['cum_event_cap']=sorted_rank_df['event_cap'].cumsum()\n",
    "sorted_rank_df\n"
   ]
  },
  {
   "cell_type": "code",
   "execution_count": 104,
   "metadata": {},
   "outputs": [
    {
     "data": {
      "text/html": [
       "<div>\n",
       "<style scoped>\n",
       "    .dataframe tbody tr th:only-of-type {\n",
       "        vertical-align: middle;\n",
       "    }\n",
       "\n",
       "    .dataframe tbody tr th {\n",
       "        vertical-align: top;\n",
       "    }\n",
       "\n",
       "    .dataframe thead th {\n",
       "        text-align: right;\n",
       "    }\n",
       "</style>\n",
       "<table border=\"1\" class=\"dataframe\">\n",
       "  <thead>\n",
       "    <tr style=\"text-align: right;\">\n",
       "      <th></th>\n",
       "      <th>count</th>\n",
       "      <th>mean</th>\n",
       "      <th>N_events</th>\n",
       "      <th>cum_events</th>\n",
       "      <th>event_cap</th>\n",
       "      <th>cum_event_cap</th>\n",
       "      <th>random_cap</th>\n",
       "      <th>cum_random_cap</th>\n",
       "    </tr>\n",
       "    <tr>\n",
       "      <th>P_Rank_RF</th>\n",
       "      <th></th>\n",
       "      <th></th>\n",
       "      <th></th>\n",
       "      <th></th>\n",
       "      <th></th>\n",
       "      <th></th>\n",
       "      <th></th>\n",
       "      <th></th>\n",
       "    </tr>\n",
       "  </thead>\n",
       "  <tbody>\n",
       "    <tr>\n",
       "      <th>10</th>\n",
       "      <td>77</td>\n",
       "      <td>0.844156</td>\n",
       "      <td>65.0</td>\n",
       "      <td>65.0</td>\n",
       "      <td>0.242537</td>\n",
       "      <td>0.242537</td>\n",
       "      <td>0.100260</td>\n",
       "      <td>0.100260</td>\n",
       "    </tr>\n",
       "    <tr>\n",
       "      <th>9</th>\n",
       "      <td>77</td>\n",
       "      <td>0.727273</td>\n",
       "      <td>56.0</td>\n",
       "      <td>121.0</td>\n",
       "      <td>0.208955</td>\n",
       "      <td>0.451493</td>\n",
       "      <td>0.100260</td>\n",
       "      <td>0.200521</td>\n",
       "    </tr>\n",
       "    <tr>\n",
       "      <th>8</th>\n",
       "      <td>77</td>\n",
       "      <td>0.493506</td>\n",
       "      <td>38.0</td>\n",
       "      <td>159.0</td>\n",
       "      <td>0.141791</td>\n",
       "      <td>0.593284</td>\n",
       "      <td>0.100260</td>\n",
       "      <td>0.300781</td>\n",
       "    </tr>\n",
       "    <tr>\n",
       "      <th>7</th>\n",
       "      <td>76</td>\n",
       "      <td>0.394737</td>\n",
       "      <td>30.0</td>\n",
       "      <td>189.0</td>\n",
       "      <td>0.111940</td>\n",
       "      <td>0.705224</td>\n",
       "      <td>0.098958</td>\n",
       "      <td>0.399740</td>\n",
       "    </tr>\n",
       "    <tr>\n",
       "      <th>6</th>\n",
       "      <td>77</td>\n",
       "      <td>0.415584</td>\n",
       "      <td>32.0</td>\n",
       "      <td>221.0</td>\n",
       "      <td>0.119403</td>\n",
       "      <td>0.824627</td>\n",
       "      <td>0.100260</td>\n",
       "      <td>0.500000</td>\n",
       "    </tr>\n",
       "    <tr>\n",
       "      <th>5</th>\n",
       "      <td>77</td>\n",
       "      <td>0.272727</td>\n",
       "      <td>21.0</td>\n",
       "      <td>242.0</td>\n",
       "      <td>0.078358</td>\n",
       "      <td>0.902985</td>\n",
       "      <td>0.100260</td>\n",
       "      <td>0.600260</td>\n",
       "    </tr>\n",
       "    <tr>\n",
       "      <th>4</th>\n",
       "      <td>76</td>\n",
       "      <td>0.210526</td>\n",
       "      <td>16.0</td>\n",
       "      <td>258.0</td>\n",
       "      <td>0.059701</td>\n",
       "      <td>0.962687</td>\n",
       "      <td>0.098958</td>\n",
       "      <td>0.699219</td>\n",
       "    </tr>\n",
       "    <tr>\n",
       "      <th>3</th>\n",
       "      <td>77</td>\n",
       "      <td>0.051948</td>\n",
       "      <td>4.0</td>\n",
       "      <td>262.0</td>\n",
       "      <td>0.014925</td>\n",
       "      <td>0.977612</td>\n",
       "      <td>0.100260</td>\n",
       "      <td>0.799479</td>\n",
       "    </tr>\n",
       "    <tr>\n",
       "      <th>2</th>\n",
       "      <td>77</td>\n",
       "      <td>0.012987</td>\n",
       "      <td>1.0</td>\n",
       "      <td>263.0</td>\n",
       "      <td>0.003731</td>\n",
       "      <td>0.981343</td>\n",
       "      <td>0.100260</td>\n",
       "      <td>0.899740</td>\n",
       "    </tr>\n",
       "    <tr>\n",
       "      <th>1</th>\n",
       "      <td>77</td>\n",
       "      <td>0.064935</td>\n",
       "      <td>5.0</td>\n",
       "      <td>268.0</td>\n",
       "      <td>0.018657</td>\n",
       "      <td>1.000000</td>\n",
       "      <td>0.100260</td>\n",
       "      <td>1.000000</td>\n",
       "    </tr>\n",
       "  </tbody>\n",
       "</table>\n",
       "</div>"
      ],
      "text/plain": [
       "           count      mean  N_events  cum_events  event_cap  cum_event_cap  \\\n",
       "P_Rank_RF                                                                    \n",
       "10            77  0.844156      65.0        65.0   0.242537       0.242537   \n",
       "9             77  0.727273      56.0       121.0   0.208955       0.451493   \n",
       "8             77  0.493506      38.0       159.0   0.141791       0.593284   \n",
       "7             76  0.394737      30.0       189.0   0.111940       0.705224   \n",
       "6             77  0.415584      32.0       221.0   0.119403       0.824627   \n",
       "5             77  0.272727      21.0       242.0   0.078358       0.902985   \n",
       "4             76  0.210526      16.0       258.0   0.059701       0.962687   \n",
       "3             77  0.051948       4.0       262.0   0.014925       0.977612   \n",
       "2             77  0.012987       1.0       263.0   0.003731       0.981343   \n",
       "1             77  0.064935       5.0       268.0   0.018657       1.000000   \n",
       "\n",
       "           random_cap  cum_random_cap  \n",
       "P_Rank_RF                              \n",
       "10           0.100260        0.100260  \n",
       "9            0.100260        0.200521  \n",
       "8            0.100260        0.300781  \n",
       "7            0.098958        0.399740  \n",
       "6            0.100260        0.500000  \n",
       "5            0.100260        0.600260  \n",
       "4            0.098958        0.699219  \n",
       "3            0.100260        0.799479  \n",
       "2            0.100260        0.899740  \n",
       "1            0.100260        1.000000  "
      ]
     },
     "execution_count": 104,
     "metadata": {},
     "output_type": "execute_result"
    }
   ],
   "source": [
    "sorted_rank_df['random_cap']=sorted_rank_df['count']/max(sorted_rank_df['count'].cumsum())\n",
    "sorted_rank_df['cum_random_cap']=sorted_rank_df['random_cap'].cumsum()\n",
    "sorted_rank_df"
   ]
  },
  {
   "cell_type": "code",
   "execution_count": 106,
   "metadata": {},
   "outputs": [
    {
     "data": {
      "text/html": [
       "<div>\n",
       "<style scoped>\n",
       "    .dataframe tbody tr th:only-of-type {\n",
       "        vertical-align: middle;\n",
       "    }\n",
       "\n",
       "    .dataframe tbody tr th {\n",
       "        vertical-align: top;\n",
       "    }\n",
       "\n",
       "    .dataframe thead th {\n",
       "        text-align: right;\n",
       "    }\n",
       "</style>\n",
       "<table border=\"1\" class=\"dataframe\">\n",
       "  <thead>\n",
       "    <tr style=\"text-align: right;\">\n",
       "      <th></th>\n",
       "      <th>P_Rank_RF</th>\n",
       "      <th>count</th>\n",
       "      <th>mean</th>\n",
       "      <th>N_events</th>\n",
       "      <th>cum_events</th>\n",
       "      <th>event_cap</th>\n",
       "      <th>cum_event_cap</th>\n",
       "      <th>random_cap</th>\n",
       "      <th>cum_random_cap</th>\n",
       "    </tr>\n",
       "  </thead>\n",
       "  <tbody>\n",
       "    <tr>\n",
       "      <th>0</th>\n",
       "      <td>10</td>\n",
       "      <td>77</td>\n",
       "      <td>0.844156</td>\n",
       "      <td>65.0</td>\n",
       "      <td>65.0</td>\n",
       "      <td>0.242537</td>\n",
       "      <td>0.242537</td>\n",
       "      <td>0.100260</td>\n",
       "      <td>0.100260</td>\n",
       "    </tr>\n",
       "    <tr>\n",
       "      <th>1</th>\n",
       "      <td>9</td>\n",
       "      <td>77</td>\n",
       "      <td>0.727273</td>\n",
       "      <td>56.0</td>\n",
       "      <td>121.0</td>\n",
       "      <td>0.208955</td>\n",
       "      <td>0.451493</td>\n",
       "      <td>0.100260</td>\n",
       "      <td>0.200521</td>\n",
       "    </tr>\n",
       "    <tr>\n",
       "      <th>2</th>\n",
       "      <td>8</td>\n",
       "      <td>77</td>\n",
       "      <td>0.493506</td>\n",
       "      <td>38.0</td>\n",
       "      <td>159.0</td>\n",
       "      <td>0.141791</td>\n",
       "      <td>0.593284</td>\n",
       "      <td>0.100260</td>\n",
       "      <td>0.300781</td>\n",
       "    </tr>\n",
       "    <tr>\n",
       "      <th>3</th>\n",
       "      <td>7</td>\n",
       "      <td>76</td>\n",
       "      <td>0.394737</td>\n",
       "      <td>30.0</td>\n",
       "      <td>189.0</td>\n",
       "      <td>0.111940</td>\n",
       "      <td>0.705224</td>\n",
       "      <td>0.098958</td>\n",
       "      <td>0.399740</td>\n",
       "    </tr>\n",
       "    <tr>\n",
       "      <th>4</th>\n",
       "      <td>6</td>\n",
       "      <td>77</td>\n",
       "      <td>0.415584</td>\n",
       "      <td>32.0</td>\n",
       "      <td>221.0</td>\n",
       "      <td>0.119403</td>\n",
       "      <td>0.824627</td>\n",
       "      <td>0.100260</td>\n",
       "      <td>0.500000</td>\n",
       "    </tr>\n",
       "    <tr>\n",
       "      <th>5</th>\n",
       "      <td>5</td>\n",
       "      <td>77</td>\n",
       "      <td>0.272727</td>\n",
       "      <td>21.0</td>\n",
       "      <td>242.0</td>\n",
       "      <td>0.078358</td>\n",
       "      <td>0.902985</td>\n",
       "      <td>0.100260</td>\n",
       "      <td>0.600260</td>\n",
       "    </tr>\n",
       "    <tr>\n",
       "      <th>6</th>\n",
       "      <td>4</td>\n",
       "      <td>76</td>\n",
       "      <td>0.210526</td>\n",
       "      <td>16.0</td>\n",
       "      <td>258.0</td>\n",
       "      <td>0.059701</td>\n",
       "      <td>0.962687</td>\n",
       "      <td>0.098958</td>\n",
       "      <td>0.699219</td>\n",
       "    </tr>\n",
       "    <tr>\n",
       "      <th>7</th>\n",
       "      <td>3</td>\n",
       "      <td>77</td>\n",
       "      <td>0.051948</td>\n",
       "      <td>4.0</td>\n",
       "      <td>262.0</td>\n",
       "      <td>0.014925</td>\n",
       "      <td>0.977612</td>\n",
       "      <td>0.100260</td>\n",
       "      <td>0.799479</td>\n",
       "    </tr>\n",
       "    <tr>\n",
       "      <th>8</th>\n",
       "      <td>2</td>\n",
       "      <td>77</td>\n",
       "      <td>0.012987</td>\n",
       "      <td>1.0</td>\n",
       "      <td>263.0</td>\n",
       "      <td>0.003731</td>\n",
       "      <td>0.981343</td>\n",
       "      <td>0.100260</td>\n",
       "      <td>0.899740</td>\n",
       "    </tr>\n",
       "    <tr>\n",
       "      <th>9</th>\n",
       "      <td>1</td>\n",
       "      <td>77</td>\n",
       "      <td>0.064935</td>\n",
       "      <td>5.0</td>\n",
       "      <td>268.0</td>\n",
       "      <td>0.018657</td>\n",
       "      <td>1.000000</td>\n",
       "      <td>0.100260</td>\n",
       "      <td>1.000000</td>\n",
       "    </tr>\n",
       "  </tbody>\n",
       "</table>\n",
       "</div>"
      ],
      "text/plain": [
       "   P_Rank_RF  count      mean  N_events  cum_events  event_cap  cum_event_cap  \\\n",
       "0         10     77  0.844156      65.0        65.0   0.242537       0.242537   \n",
       "1          9     77  0.727273      56.0       121.0   0.208955       0.451493   \n",
       "2          8     77  0.493506      38.0       159.0   0.141791       0.593284   \n",
       "3          7     76  0.394737      30.0       189.0   0.111940       0.705224   \n",
       "4          6     77  0.415584      32.0       221.0   0.119403       0.824627   \n",
       "5          5     77  0.272727      21.0       242.0   0.078358       0.902985   \n",
       "6          4     76  0.210526      16.0       258.0   0.059701       0.962687   \n",
       "7          3     77  0.051948       4.0       262.0   0.014925       0.977612   \n",
       "8          2     77  0.012987       1.0       263.0   0.003731       0.981343   \n",
       "9          1     77  0.064935       5.0       268.0   0.018657       1.000000   \n",
       "\n",
       "   random_cap  cum_random_cap  \n",
       "0    0.100260        0.100260  \n",
       "1    0.100260        0.200521  \n",
       "2    0.100260        0.300781  \n",
       "3    0.098958        0.399740  \n",
       "4    0.100260        0.500000  \n",
       "5    0.100260        0.600260  \n",
       "6    0.098958        0.699219  \n",
       "7    0.100260        0.799479  \n",
       "8    0.100260        0.899740  \n",
       "9    0.100260        1.000000  "
      ]
     },
     "execution_count": 106,
     "metadata": {},
     "output_type": "execute_result"
    }
   ],
   "source": [
    "sorted_reindexed=sorted_rank_df.reset_index()\n",
    "sorted_reindexed"
   ]
  },
  {
   "cell_type": "code",
   "execution_count": 107,
   "metadata": {},
   "outputs": [
    {
     "data": {
      "text/html": [
       "<div>\n",
       "<style scoped>\n",
       "    .dataframe tbody tr th:only-of-type {\n",
       "        vertical-align: middle;\n",
       "    }\n",
       "\n",
       "    .dataframe tbody tr th {\n",
       "        vertical-align: top;\n",
       "    }\n",
       "\n",
       "    .dataframe thead th {\n",
       "        text-align: right;\n",
       "    }\n",
       "</style>\n",
       "<table border=\"1\" class=\"dataframe\">\n",
       "  <thead>\n",
       "    <tr style=\"text-align: right;\">\n",
       "      <th></th>\n",
       "      <th>P_Rank_RF</th>\n",
       "      <th>count</th>\n",
       "      <th>mean</th>\n",
       "      <th>N_events</th>\n",
       "      <th>cum_events</th>\n",
       "      <th>event_cap</th>\n",
       "      <th>cum_event_cap</th>\n",
       "      <th>random_cap</th>\n",
       "      <th>cum_random_cap</th>\n",
       "      <th>decile</th>\n",
       "    </tr>\n",
       "  </thead>\n",
       "  <tbody>\n",
       "    <tr>\n",
       "      <th>0</th>\n",
       "      <td>10</td>\n",
       "      <td>77</td>\n",
       "      <td>0.844156</td>\n",
       "      <td>65.0</td>\n",
       "      <td>65.0</td>\n",
       "      <td>0.242537</td>\n",
       "      <td>0.242537</td>\n",
       "      <td>0.100260</td>\n",
       "      <td>0.100260</td>\n",
       "      <td>1</td>\n",
       "    </tr>\n",
       "    <tr>\n",
       "      <th>1</th>\n",
       "      <td>9</td>\n",
       "      <td>77</td>\n",
       "      <td>0.727273</td>\n",
       "      <td>56.0</td>\n",
       "      <td>121.0</td>\n",
       "      <td>0.208955</td>\n",
       "      <td>0.451493</td>\n",
       "      <td>0.100260</td>\n",
       "      <td>0.200521</td>\n",
       "      <td>2</td>\n",
       "    </tr>\n",
       "    <tr>\n",
       "      <th>2</th>\n",
       "      <td>8</td>\n",
       "      <td>77</td>\n",
       "      <td>0.493506</td>\n",
       "      <td>38.0</td>\n",
       "      <td>159.0</td>\n",
       "      <td>0.141791</td>\n",
       "      <td>0.593284</td>\n",
       "      <td>0.100260</td>\n",
       "      <td>0.300781</td>\n",
       "      <td>3</td>\n",
       "    </tr>\n",
       "    <tr>\n",
       "      <th>3</th>\n",
       "      <td>7</td>\n",
       "      <td>76</td>\n",
       "      <td>0.394737</td>\n",
       "      <td>30.0</td>\n",
       "      <td>189.0</td>\n",
       "      <td>0.111940</td>\n",
       "      <td>0.705224</td>\n",
       "      <td>0.098958</td>\n",
       "      <td>0.399740</td>\n",
       "      <td>4</td>\n",
       "    </tr>\n",
       "    <tr>\n",
       "      <th>4</th>\n",
       "      <td>6</td>\n",
       "      <td>77</td>\n",
       "      <td>0.415584</td>\n",
       "      <td>32.0</td>\n",
       "      <td>221.0</td>\n",
       "      <td>0.119403</td>\n",
       "      <td>0.824627</td>\n",
       "      <td>0.100260</td>\n",
       "      <td>0.500000</td>\n",
       "      <td>5</td>\n",
       "    </tr>\n",
       "    <tr>\n",
       "      <th>5</th>\n",
       "      <td>5</td>\n",
       "      <td>77</td>\n",
       "      <td>0.272727</td>\n",
       "      <td>21.0</td>\n",
       "      <td>242.0</td>\n",
       "      <td>0.078358</td>\n",
       "      <td>0.902985</td>\n",
       "      <td>0.100260</td>\n",
       "      <td>0.600260</td>\n",
       "      <td>6</td>\n",
       "    </tr>\n",
       "    <tr>\n",
       "      <th>6</th>\n",
       "      <td>4</td>\n",
       "      <td>76</td>\n",
       "      <td>0.210526</td>\n",
       "      <td>16.0</td>\n",
       "      <td>258.0</td>\n",
       "      <td>0.059701</td>\n",
       "      <td>0.962687</td>\n",
       "      <td>0.098958</td>\n",
       "      <td>0.699219</td>\n",
       "      <td>7</td>\n",
       "    </tr>\n",
       "    <tr>\n",
       "      <th>7</th>\n",
       "      <td>3</td>\n",
       "      <td>77</td>\n",
       "      <td>0.051948</td>\n",
       "      <td>4.0</td>\n",
       "      <td>262.0</td>\n",
       "      <td>0.014925</td>\n",
       "      <td>0.977612</td>\n",
       "      <td>0.100260</td>\n",
       "      <td>0.799479</td>\n",
       "      <td>8</td>\n",
       "    </tr>\n",
       "    <tr>\n",
       "      <th>8</th>\n",
       "      <td>2</td>\n",
       "      <td>77</td>\n",
       "      <td>0.012987</td>\n",
       "      <td>1.0</td>\n",
       "      <td>263.0</td>\n",
       "      <td>0.003731</td>\n",
       "      <td>0.981343</td>\n",
       "      <td>0.100260</td>\n",
       "      <td>0.899740</td>\n",
       "      <td>9</td>\n",
       "    </tr>\n",
       "    <tr>\n",
       "      <th>9</th>\n",
       "      <td>1</td>\n",
       "      <td>77</td>\n",
       "      <td>0.064935</td>\n",
       "      <td>5.0</td>\n",
       "      <td>268.0</td>\n",
       "      <td>0.018657</td>\n",
       "      <td>1.000000</td>\n",
       "      <td>0.100260</td>\n",
       "      <td>1.000000</td>\n",
       "      <td>10</td>\n",
       "    </tr>\n",
       "  </tbody>\n",
       "</table>\n",
       "</div>"
      ],
      "text/plain": [
       "   P_Rank_RF  count      mean  N_events  cum_events  event_cap  cum_event_cap  \\\n",
       "0         10     77  0.844156      65.0        65.0   0.242537       0.242537   \n",
       "1          9     77  0.727273      56.0       121.0   0.208955       0.451493   \n",
       "2          8     77  0.493506      38.0       159.0   0.141791       0.593284   \n",
       "3          7     76  0.394737      30.0       189.0   0.111940       0.705224   \n",
       "4          6     77  0.415584      32.0       221.0   0.119403       0.824627   \n",
       "5          5     77  0.272727      21.0       242.0   0.078358       0.902985   \n",
       "6          4     76  0.210526      16.0       258.0   0.059701       0.962687   \n",
       "7          3     77  0.051948       4.0       262.0   0.014925       0.977612   \n",
       "8          2     77  0.012987       1.0       263.0   0.003731       0.981343   \n",
       "9          1     77  0.064935       5.0       268.0   0.018657       1.000000   \n",
       "\n",
       "   random_cap  cum_random_cap  decile  \n",
       "0    0.100260        0.100260       1  \n",
       "1    0.100260        0.200521       2  \n",
       "2    0.100260        0.300781       3  \n",
       "3    0.098958        0.399740       4  \n",
       "4    0.100260        0.500000       5  \n",
       "5    0.100260        0.600260       6  \n",
       "6    0.098958        0.699219       7  \n",
       "7    0.100260        0.799479       8  \n",
       "8    0.100260        0.899740       9  \n",
       "9    0.100260        1.000000      10  "
      ]
     },
     "execution_count": 107,
     "metadata": {},
     "output_type": "execute_result"
    }
   ],
   "source": [
    "sorted_reindexed['decile']=sorted_reindexed.index+1\n",
    "sorted_reindexed"
   ]
  },
  {
   "cell_type": "code",
   "execution_count": 108,
   "metadata": {},
   "outputs": [
    {
     "data": {
      "image/png": "[encoded data removed]",
      "text/plain": [
       "<Figure size 432x288 with 1 Axes>"
      ]
     },
     "metadata": {
      "needs_background": "light"
     },
     "output_type": "display_data"
    }
   ],
   "source": [
    "ax = sns.lineplot( x=\"decile\", y=\"cum_event_cap\", data=sorted_reindexed)\n",
    "ax = sns.lineplot( x=\"decile\", y=\"cum_random_cap\", data=sorted_reindexed)"
   ]
  },
  {
   "cell_type": "code",
   "execution_count": null,
   "metadata": {},
   "outputs": [],
   "source": []
  },
  {
   "cell_type": "code",
   "execution_count": null,
   "metadata": {},
   "outputs": [],
   "source": []
  },
  {
   "cell_type": "code",
   "execution_count": null,
   "metadata": {},
   "outputs": [],
   "source": []
  },
  {
   "cell_type": "code",
   "execution_count": null,
   "metadata": {},
   "outputs": [],
   "source": []
  },
  {
   "cell_type": "code",
   "execution_count": null,
   "metadata": {},
   "outputs": [],
   "source": []
  },
  {
   "cell_type": "code",
   "execution_count": null,
   "metadata": {},
   "outputs": [],
   "source": []
  }
 ],
 "metadata": {
  "kernelspec": {
   "display_name": "Python 3",
   "language": "python",
   "name": "python3"
  },
  "language_info": {
   "codemirror_mode": {
    "name": "ipython",
    "version": 3
   },
   "file_extension": ".py",
   "mimetype": "text/x-python",
   "name": "python",
   "nbconvert_exporter": "python",
   "pygments_lexer": "ipython3",
   "version": "3.7.6"
  }
 },
 "nbformat": 4,
 "nbformat_minor": 4
}
